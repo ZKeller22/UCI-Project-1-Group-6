{
 "cells": [
  {
   "cell_type": "code",
   "execution_count": 2,
   "metadata": {},
   "outputs": [],
   "source": [
    "#Import libraries\n",
    "import os\n",
    "import pandas as pd\n",
    "import matplotlib.pyplot as plt\n",
    "import numpy as np\n",
    "import scipy.stats as stats\n",
    "import warnings\n",
    "warnings.filterwarnings('ignore')"
   ]
  },
  {
   "cell_type": "code",
   "execution_count": 3,
   "metadata": {},
   "outputs": [],
   "source": [
    "# Read in the csv raw data file for public education expendtiure\n",
    "\n",
    "#Convert raw data files to Data Frame\n",
    "\n",
    "#Remove columns that are not needed (Series, Source, Footnote)\n",
    "\n",
    "#Display the data frame"
   ]
  },
  {
   "cell_type": "code",
   "execution_count": 4,
   "metadata": {},
   "outputs": [],
   "source": [
    "# Read in the csv raw data file for Consumer Price Index expendtiure\n",
    "\n",
    "#Convert raw data files to Data Frame\n",
    "\n",
    "#Remove columns that are not needed (Series, Source, Footnote)\n",
    "\n",
    "#Display the data frame"
   ]
  },
  {
   "cell_type": "code",
   "execution_count": 5,
   "metadata": {},
   "outputs": [],
   "source": [
    "# Read in the csv raw data file for GDP and GDP per Captia expendtiure\n",
    "\n",
    "#Convert raw data files to Data Frame\n",
    "\n",
    "#Remove columns that are not needed (Series, Source, Footnote)\n",
    "\n",
    "#Display the data frame"
   ]
  },
  {
   "cell_type": "code",
   "execution_count": 6,
   "metadata": {},
   "outputs": [],
   "source": [
    "# Read in the csv raw data file for Poverty Rate expendtiure\n",
    "\n",
    "#Convert raw data files to Data Frame\n",
    "\n",
    "#Remove columns that are not needed (Series, Source, Footnote)\n",
    "\n",
    "#Display the data frame"
   ]
  },
  {
   "cell_type": "code",
   "execution_count": 7,
   "metadata": {},
   "outputs": [],
   "source": [
    "# Read in the csv raw data file for R&D as a % of GDP expendtiure\n",
    "\n",
    "#Convert raw data files to Data Frame\n",
    "\n",
    "#Remove columns that are not needed (Series, Source, Footnote)\n",
    "\n",
    "#Display the data frame"
   ]
  },
  {
   "cell_type": "code",
   "execution_count": 8,
   "metadata": {},
   "outputs": [],
   "source": [
    "# Merge data frames to Public education data frame\n",
    "\n",
    "#Drop N/A values\n",
    "\n",
    "#Display clean DataFrame"
   ]
  },
  {
   "cell_type": "code",
   "execution_count": 9,
   "metadata": {},
   "outputs": [],
   "source": [
    "# Write Data Frame to csv file and save to data_source folder"
   ]
  },
  {
   "cell_type": "code",
   "execution_count": 10,
   "metadata": {},
   "outputs": [],
   "source": [
    "# Create Data Frame grouped by Country"
   ]
  },
  {
   "cell_type": "code",
   "execution_count": null,
   "metadata": {},
   "outputs": [],
   "source": [
    "#Create Data Frame grouped by Year"
   ]
  }
 ],
 "metadata": {
  "kernelspec": {
   "display_name": "Python [conda env:PythonData] *",
   "language": "python",
   "name": "conda-env-PythonData-py"
  },
  "language_info": {
   "codemirror_mode": {
    "name": "ipython",
    "version": 3
   },
   "file_extension": ".py",
   "mimetype": "text/x-python",
   "name": "python",
   "nbconvert_exporter": "python",
   "pygments_lexer": "ipython3",
   "version": "3.6.12"
  }
 },
 "nbformat": 4,
 "nbformat_minor": 4
}
